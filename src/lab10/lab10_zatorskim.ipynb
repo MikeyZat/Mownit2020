{
 "cells": [
  {
   "cell_type": "markdown",
   "source": [
    "# Labolatorium 10\n",
    "## Dyskretna transformacja Fouriera\n"
   ],
   "metadata": {
    "collapsed": false
   }
  },
  {
   "cell_type": "code",
   "execution_count": null,
   "outputs": [],
   "source": [
    "import numpy as np\n",
    "from numpy.fft import fft, ifft\n",
    "import matplotlib.pyplot as plt\n",
    "import time"
   ],
   "metadata": {
    "collapsed": false,
    "pycharm": {
     "name": "#%%\n"
    }
   }
  },
  {
   "cell_type": "markdown",
   "source": [
    "---\n",
    "### Zadanie 1 FFT"
   ],
   "metadata": {
    "collapsed": false
   }
  },
  {
   "cell_type": "markdown",
   "source": [
    "1. Zaimplementuj funkcję realizującją DFT jako iloczyn macierzy Fouriera $F_n$ i n-elementowego wektora wejściowego ($y = F_nx$).\n",
    "\n",
    "$$\\large\n",
    "n = 2^r \\\\ \\large\n",
    "[F_n]_{jk} = E^{jk} \\\\ \\large\n",
    "E = e^{- \\frac{2 \\pi i}{n}} = cos(\\frac{2\\pi}{n}) - isin(\\frac{2\\pi}{n}) = \\omega\n",
    "$$"
   ],
   "metadata": {
    "collapsed": false
   }
  },
  {
   "cell_type": "code",
   "execution_count": null,
   "outputs": [],
   "source": [
    "def DFT(x):\n",
    "    n = x.shape[0]\n",
    "    Fn = np.array([[np.exp(2*np.pi*1j*i*k/n) for i in range(n)] for k in range(n)], dtype=np.complex_)\n",
    "    return Fn @ x"
   ],
   "metadata": {
    "collapsed": false,
    "pycharm": {
     "name": "#%%\n"
    }
   }
  },
  {
   "cell_type": "markdown",
   "source": [
    "W powyższej funkcji korzystamy z typu `np.complex_` z modułu `numpy` dla liczb zespolonych (przy tworzeniu macierzy Furiera `Fn`)"
   ],
   "metadata": {
    "collapsed": false
   }
  },
  {
   "cell_type": "markdown",
   "source": [
    "2. Zaimplementuj również IDFT korzystając z tożsamości:\n",
    "$$\\large\n",
    "F^{-1}_ny = \\frac{\\overline{F_n}y}{n} = \\frac{\\overline{F_n\\overline{y}}}{n}\n",
    "$$\n",
    "\n",
    "gdzie $\\overline{x}$ to sprzężenie zespolone $x$.\n",
    "\n",
    "Sprawdź poprawność działania funkcji realizującej DFT stosując transformację odwrotną (x = $F^{-1}_ny$) oraz porównując uzyskane wyniki z wyjściem funkcji bibliotecznej."
   ],
   "metadata": {
    "collapsed": false
   }
  },
  {
   "cell_type": "code",
   "execution_count": null,
   "outputs": [],
   "source": [
    "def IDFT(y):\n",
    "    n = y.shape[0]\n",
    "    Fn = np.array([[np.exp(2*np.pi*1j*i*k/n) for i in range(n)] for k in range(n)], dtype=np.complex_)\n",
    "    return (Fn @ y.conj()).conj() / n"
   ],
   "metadata": {
    "collapsed": false,
    "pycharm": {
     "name": "#%%\n"
    }
   }
  },
  {
   "cell_type": "markdown",
   "source": [
    "`.conj()` zwraca nam sprzężenie zespolone macierzy numpy."
   ],
   "metadata": {
    "collapsed": false
   }
  },
  {
   "cell_type": "markdown",
   "source": [
    "#### Sprawdzenie poprawności działania i porównanie z funkcjami bibliotecznymi\n",
    "\n",
    "Funkcje bibilioteczne:\n",
    "- `fft` z biblioteki `numpy` - transformacja Fouriera\n",
    "- `ifft` z biblioteki `numpy` - odwrotna transformacja Fouriera"
   ],
   "metadata": {
    "collapsed": false
   }
  },
  {
   "cell_type": "code",
   "execution_count": null,
   "outputs": [],
   "source": [
    "def get_simple_signal(r):\n",
    "    n = 2**r\n",
    "    x = np.arange(n)\n",
    "    return np.sin(2*np.pi*x/np.float64(n))"
   ],
   "metadata": {
    "collapsed": false,
    "pycharm": {
     "name": "#%%\n"
    }
   }
  },
  {
   "cell_type": "code",
   "execution_count": null,
   "outputs": [],
   "source": [
    "signals = np.array([get_simple_signal(r) for r in [2, 4, 6]])"
   ],
   "metadata": {
    "collapsed": false,
    "pycharm": {
     "name": "#%%\n"
    }
   }
  },
  {
   "cell_type": "markdown",
   "source": [
    "Do testów użyje sygnałów wygenerowanych ze wzoru $X_i = \\sin(\\frac{2\\pi x_i}{n})$, gdzie $n = 2^r$, a $X = [x_0, x_1, ..., x_n]$, dla $r \\in \\{2, 4, 6\\}$."
   ],
   "metadata": {
    "collapsed": false
   }
  },
  {
   "cell_type": "code",
   "execution_count": null,
   "outputs": [],
   "source": [
    "def test_simple_dft(signal):\n",
    "    y = DFT(signal)\n",
    "    x = IDFT(y)\n",
    "    y_lib = fft(signal)\n",
    "    x_lib = ifft(y_lib)\n",
    "    print(f\"\\nSignal of size {signal.shape[0]}\")\n",
    "    print(f\"\\ny =?= y_lib -> {np.allclose(abs(y), abs(y_lib))}\")\n",
    "    print(f\"x =?= signal -> {np.allclose(x, signal)}\")\n",
    "    print(f\"x =?= x_lib -> {np.allclose(x, x_lib)}\")"
   ],
   "metadata": {
    "collapsed": false,
    "pycharm": {
     "name": "#%%\n"
    }
   }
  },
  {
   "cell_type": "code",
   "execution_count": null,
   "outputs": [],
   "source": [
    "for signal in signals:\n",
    "    test_simple_dft(signal)"
   ],
   "metadata": {
    "collapsed": false,
    "pycharm": {
     "name": "#%%\n"
    }
   }
  },
  {
   "cell_type": "markdown",
   "source": [
    "Na podstawie powyższych wyników widzimy, że:\n",
    "1. Nasza funkcja `DFT` poprawnie dokonuje transformacji Fouriera (jest równa wynikowi funkcji bibliotecznej z dokładnością do znaku).\n",
    "2. Nasza funkcja `IDFT` poprawnie wykonuje odwrotną transformację fouriera (przepuszczając sygnał przez `DFT` a następnie `IDFT` otrzymujemy na wyjściu ten sam sygnał).\n",
    "3. Wynik funkcji `IDFT` jest równy wynikowi funkcji bibliotecznej `ifft` co potwierdza poprawność jej działania."
   ],
   "metadata": {
    "collapsed": false
   }
  },
  {
   "cell_type": "markdown",
   "source": [
    "---\n",
    "#### 3.\n",
    "Zaimplementuj rekurencyjny algorytm Cooleya-Turkeya realizujący szybką transformację Fouriera (FFT). Porównaj szybkość jego działania z implementacją biblioteczną z mnożeniem wektora przez macierz $F_n$ dla danych o różnych rozmiarze"
   ],
   "metadata": {
    "collapsed": false
   }
  },
  {
   "cell_type": "code",
   "execution_count": null,
   "outputs": [],
   "source": [
    "def FFT(x, N, s):\n",
    "\n",
    "    if N == 1:\n",
    "        return np.array(x[:1], dtype=np.complex_)\n",
    "    \n",
    "    n = N//2\n",
    "    \n",
    "    X = np.concatenate((FFT(x, n, 2*s), FFT(x[s:], n, 2*s)), axis=0)\n",
    "    \n",
    "    f_n = np.exp(-2j * np.pi * np.arange(n) / N)\n",
    "    \n",
    "    return np.concatenate((X[:n] + f_n * X[n:], X[:n] - f_n * X[n:]), axis=0)\n",
    "\n",
    "def Cooley_Tukey(x):\n",
    "    return FFT(x, x.shape[0], 1)"
   ],
   "metadata": {
    "collapsed": false,
    "pycharm": {
     "name": "#%%\n"
    }
   }
  },
  {
   "cell_type": "markdown",
   "source": [
    "#### Sprawdzenie poprawności działania i porównanie z funkcjami bibliotecznymi (w tym pomiar czasów)"
   ],
   "metadata": {
    "collapsed": false
   }
  },
  {
   "cell_type": "markdown",
   "source": [
    "Tym razem dane testowe będziemy budowali w ten sam sposób ale dla $ r \\in \\{4, 8, 12\\}$."
   ],
   "metadata": {
    "collapsed": false
   }
  },
  {
   "cell_type": "code",
   "execution_count": null,
   "outputs": [],
   "source": [
    "signals = np.array([get_simple_signal(r) for r in [4, 8, 12]])"
   ],
   "metadata": {
    "collapsed": false,
    "pycharm": {
     "name": "#%%\n"
    }
   }
  },
  {
   "cell_type": "code",
   "execution_count": null,
   "outputs": [],
   "source": [
    "def timeit(f, x):\n",
    "    start = time.time()\n",
    "    res = f(x)\n",
    "    stop = time.time()\n",
    "    return res, (stop - start)\n",
    "\n",
    "def test_fft(signal):\n",
    "    y_slow, y_slow_time = timeit(DFT, signal)\n",
    "    y_fast, y_fast_time = timeit(Cooley_Tukey, signal)\n",
    "    y_lib, y_lib_time = timeit(fft, signal)\n",
    "    \n",
    "    print(f\"\\nSignal of size {signal.shape[0]}\")\n",
    "    print(f\"\\nFFT y =?= DFT y -> {np.allclose(abs(y_fast), abs(y_slow))}\")\n",
    "    print(f\"FFT y =?= lib y -> {np.allclose(abs(y_fast), abs(y_lib))}\")\n",
    "    print(f\"DFT took {y_slow_time}s\")\n",
    "    print(f\"FFT took {y_fast_time}s\")\n",
    "    print(f\"lib fft took {y_lib_time}s\")"
   ],
   "metadata": {
    "collapsed": false,
    "pycharm": {
     "name": "#%%\n"
    }
   }
  },
  {
   "cell_type": "code",
   "execution_count": null,
   "outputs": [],
   "source": [
    "for signal in signals:\n",
    "    test_fft(signal)"
   ],
   "metadata": {
    "collapsed": false,
    "pycharm": {
     "name": "#%%\n"
    }
   }
  },
  {
   "cell_type": "markdown",
   "source": [
    "Widzimy, że szybka transformacja Fouriera `FFT` jest zdecydowanie szybsza od zwykłego algorytmu `DFT`. W dalszym ciągu jednak najszybsza pozostaje funkcja biblioteczna `numpy.fft.fft`."
   ],
   "metadata": {
    "collapsed": false
   }
  },
  {
   "cell_type": "markdown",
   "source": [
    "---\n",
    "### Zadanie 2 DFT w 1D"
   ],
   "metadata": {
    "collapsed": false
   }
  },
  {
   "cell_type": "markdown",
   "source": [
    "* Wygeneruj dwa sygnału czasowo-amplitudowe:"
   ],
   "metadata": {
    "collapsed": false
   }
  },
  {
   "cell_type": "markdown",
   "source": [
    "a) Sygnał będący sumą pięciu sygnałów sinusoidalnych o różnych częstotliwościach"
   ],
   "metadata": {
    "collapsed": false
   }
  },
  {
   "cell_type": "code",
   "execution_count": null,
   "outputs": [],
   "source": [
    "def get_signal_sin(cycles_num, frequency, n=256):\n",
    "    N = cycles_num * n\n",
    "    x = np.arange(N)\n",
    "    return np.sin(2 * np.pi * frequency * x / float(n))"
   ],
   "metadata": {
    "collapsed": false,
    "pycharm": {
     "name": "#%%\n"
    }
   }
  },
  {
   "cell_type": "code",
   "execution_count": null,
   "outputs": [],
   "source": [
    "def plot_input_signal(signal, n=256):\n",
    "    N = signal.shape[0]\n",
    "    X = 2 * np.pi * np.arange(N) / float(n)\n",
    "    fig = plt.figure(figsize=(14,8))\n",
    "    plt.plot(X, signal)"
   ],
   "metadata": {
    "collapsed": false,
    "pycharm": {
     "name": "#%%\n"
    }
   }
  },
  {
   "cell_type": "markdown",
   "source": [
    "Poniżej możemy zobaczyć osobno pięć sygnałów sinusoidalnych, które będziemy wykorzystywać w dalszej części zadania"
   ],
   "metadata": {
    "collapsed": false
   }
  },
  {
   "cell_type": "code",
   "execution_count": null,
   "outputs": [],
   "source": [
    "sinuses = [get_signal_sin(4, freq) for freq in [1, 2, 4, 6, 9]]\n",
    "for sinus in sinuses:\n",
    "    plot_input_signal(sinus)"
   ],
   "metadata": {
    "collapsed": false,
    "pycharm": {
     "name": "#%%\n"
    }
   }
  },
  {
   "cell_type": "code",
   "execution_count": null,
   "outputs": [],
   "source": [
    "sin_sum = np.sum(sinuses, axis=0)"
   ],
   "metadata": {
    "collapsed": false,
    "pycharm": {
     "name": "#%%\n"
    }
   }
  },
  {
   "cell_type": "markdown",
   "source": [
    "Poniżej na wykresie przedstawiam sumę powyższych pięciu sygnałów sinusoidalnych."
   ],
   "metadata": {
    "collapsed": false
   }
  },
  {
   "cell_type": "code",
   "execution_count": null,
   "outputs": [],
   "source": [
    "plot_input_signal(sin_sum)"
   ],
   "metadata": {
    "collapsed": false,
    "pycharm": {
     "name": "#%%\n"
    }
   }
  },
  {
   "cell_type": "markdown",
   "source": [
    "b) Sygnał złożony z pięciu sygnałów o tych samych częstotliwościach co w punkcie a), ale ułożonych przedziałami, tzn. w każdym z pięciu przedziałów o tej samej szerokości występuje sygnał o jednej częstotliwości."
   ],
   "metadata": {
    "collapsed": false
   }
  },
  {
   "cell_type": "code",
   "execution_count": null,
   "outputs": [],
   "source": [
    "sin_concat = np.concatenate(sinuses, axis=0)"
   ],
   "metadata": {
    "collapsed": false,
    "pycharm": {
     "name": "#%%\n"
    }
   }
  },
  {
   "cell_type": "markdown",
   "source": [
    "Poniżej na wykresie przedstawiam konkatenację pięciu sygnałów sinusoidalnych."
   ],
   "metadata": {
    "collapsed": false
   }
  },
  {
   "cell_type": "code",
   "execution_count": null,
   "outputs": [],
   "source": [
    "plot_input_signal(sin_concat)"
   ],
   "metadata": {
    "collapsed": false,
    "pycharm": {
     "name": "#%%\n"
    }
   }
  },
  {
   "cell_type": "markdown",
   "source": [
    "* Dokonaj transformacji sygnałów a) i b) do domeny częstotliwościowej, porównaj otrzymane wyniki. Przedstaw na osobnych wykresach część rzeczywistą i część urojoną wyniku transformacji."
   ],
   "metadata": {
    "collapsed": false
   }
  },
  {
   "cell_type": "markdown",
   "source": [
    "Ponieważ nasz algorytm działa tylko dla wyników $N = 2^r$, \"obetniemy\" sygnały tak, aby ich długości były potęgą dwójki:"
   ],
   "metadata": {
    "collapsed": false
   }
  },
  {
   "cell_type": "code",
   "execution_count": null,
   "outputs": [],
   "source": [
    "sin_sum.shape ## Tutaj jest ok"
   ],
   "metadata": {
    "collapsed": false,
    "pycharm": {
     "name": "#%%\n"
    }
   }
  },
  {
   "cell_type": "code",
   "execution_count": null,
   "outputs": [],
   "source": [
    "sin_concat.shape ## Tu musimy uciąć"
   ],
   "metadata": {
    "collapsed": false,
    "pycharm": {
     "name": "#%%\n"
    }
   }
  },
  {
   "cell_type": "code",
   "execution_count": null,
   "outputs": [],
   "source": [
    "sin_concat = sin_concat[:2**int(np.log2(sin_concat.shape[0]))]\n",
    "sin_concat.shape"
   ],
   "metadata": {
    "collapsed": false,
    "pycharm": {
     "name": "#%%\n"
    }
   }
  },
  {
   "cell_type": "code",
   "execution_count": null,
   "outputs": [],
   "source": [
    "plot_input_signal(sin_concat)"
   ],
   "metadata": {
    "collapsed": false,
    "pycharm": {
     "name": "#%%\n"
    }
   }
  },
  {
   "cell_type": "markdown",
   "source": [
    "Teraz możemy wreszcie dokonać transformacji sygnałów a) i b) używając napisanego przez nas algorytmu `Cooleya-Tukeya`. Ponieważ wektor wynikowy jest symetryczny względem swojego środka, na wykresie pokażę tylko pierwszą jego połowę "
   ],
   "metadata": {
    "collapsed": false
   }
  },
  {
   "cell_type": "code",
   "execution_count": null,
   "outputs": [],
   "source": [
    "sin_sum_fft = Cooley_Tukey(sin_sum)\n",
    "sin_concat_fft = Cooley_Tukey(sin_concat)"
   ],
   "metadata": {
    "collapsed": false,
    "pycharm": {
     "name": "#%%\n"
    }
   }
  },
  {
   "cell_type": "code",
   "execution_count": null,
   "outputs": [],
   "source": [
    "def plot_fft(Y, title=\"\", n=256):\n",
    "    N = Y.shape[0]\n",
    "    X = np.arange(N//2) * n / float(N)\n",
    "    fig, axes = plt.subplots(2, figsize=(14,8))\n",
    "    fig.suptitle(title, fontsize=22)\n",
    "    axes[0].plot(X, np.real(Y)[:N//2])\n",
    "    axes[0].set_title(\"Czesc rzeczewista\", fontsize=20)\n",
    "    axes[1].plot(X, np.imag(Y)[:N//2])\n",
    "    axes[1].set_title(\"Czesc urojona\", fontsize=20)"
   ],
   "metadata": {
    "collapsed": false,
    "pycharm": {
     "name": "#%%\n"
    }
   }
  },
  {
   "cell_type": "code",
   "execution_count": null,
   "outputs": [],
   "source": [
    "plot_fft(sin_sum_fft, title=\"Suma pieciu sygnalow sinusoidalnych\")"
   ],
   "metadata": {
    "collapsed": false,
    "pycharm": {
     "name": "#%%\n"
    }
   }
  },
  {
   "cell_type": "code",
   "execution_count": null,
   "outputs": [],
   "source": [
    "plot_fft(sin_concat_fft, title=\"Konkatenacja sygnalow sinusoidalnych\")"
   ],
   "metadata": {
    "collapsed": false,
    "pycharm": {
     "name": "#%%\n"
    }
   }
  },
  {
   "cell_type": "markdown",
   "source": [
    "#### Porównanie wykresów"
   ],
   "metadata": {
    "collapsed": false
   }
  },
  {
   "cell_type": "markdown",
   "source": [
    "Na pierwszym wykresie (suma sygnałów) możemy zaobserwować, że część rzeczywista przypomina nam sygnał radiowy bądź też inny sygnał o nieciągłym natężeniu. Część urojona tego wykresu jest praktycznie cały czas równa 0 za wyjątkiem tzw. \"pików\". W przypadku konkatenacji sygnałów, wykres wygląda nieco inaczej - Na początku mamy bardzo dużo różnych wartości zarówno w domenie rzeczywistej jak i urojonej, żeby następnie wartości praktycznie przez resztę przedziału były równe 0."
   ],
   "metadata": {
    "collapsed": false
   }
  }
 ],
 "metadata": {
  "kernelspec": {
   "display_name": "Python 3",
   "language": "python",
   "name": "python3"
  },
  "language_info": {
   "codemirror_mode": {
    "name": "ipython",
    "version": 3
   },
   "file_extension": ".py",
   "mimetype": "text/x-python",
   "name": "python",
   "nbconvert_exporter": "python",
   "pygments_lexer": "ipython3",
   "version": "3.6.9"
  }
 },
 "nbformat": 4,
 "nbformat_minor": 1
}