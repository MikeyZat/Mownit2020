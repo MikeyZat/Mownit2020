{
 "cells": [
  {
   "cell_type": "markdown",
   "metadata": {
    "collapsed": true
   },
   "source": [
    "# Labolatoirum 9\n",
    "\n",
    "## Faktoryzacja QR"
   ]
  },
  {
   "cell_type": "markdown",
   "metadata": {},
   "source": [
    "---\n",
    "### Zadanie 1. Faktoryzacja QR metodą Grama-Schmidta"
   ]
  },
  {
   "cell_type": "markdown",
   "metadata": {},
   "source": [
    "---\n",
    "#### 1.\n",
    "\n",
    "Napisz funkcję dokonującą faktoryzacji QR macierzy $A \\in \\mathbb{R}^{nxn}, A = [a_1, a_2, ..., a_n]$ ($a_i$ to kolejne kolumny macierzy A) klasyczną metodą ortogonalizacji Grama-Schmidta."
   ]
  },
  {
   "cell_type": "markdown",
   "metadata": {},
   "source": [
    "Z *Kincaid'a & Cheney'a - Analiza numeryczna, rozdział 5.3* wiemy, że ortogonalizację Grama-Schmidta stosowaną do kolumn $A_1, A_2, ..., A_n$ macierzy A rozmiaru $m x n$ możemy interpretować jako jej rozkład QR na czynniki B i T. W macierzy T występują m.in. iloczyny skalarne, a kolumnami macierzy B rozmiaru $m x n$ są wektory $u_k$."
   ]
  },
  {
   "cell_type": "markdown",
   "metadata": {},
   "source": [
    "Algorytm można opisać następująco:"
   ]
  },
  {
   "cell_type": "markdown",
   "metadata": {},
   "source": [
    "dla k = 1:\n",
    "\n",
    "$$\\large\n",
    "\\begin{aligned}\n",
    "u_1 \\leftarrow \\frac{a_1}{\\|a_1\\|}\n",
    "\\end{aligned}\n",
    "$$\n",
    "\n",
    "dla k > 1:\n",
    "$$\\large\n",
    "\\begin{aligned}\n",
    "u_k \\leftarrow a_k -  \\sum_{i=1}^{k-1} \\langle u_i, a_k \\rangle u_i\n",
    "\\end{aligned}\n",
    "$$\n",
    "\n",
    "gdzie $\\langle a, b \\rangle$ oznacza iloczyn skalarny wektorów a,b"
   ]
  },
  {
   "cell_type": "markdown",
   "metadata": {},
   "source": [
    "Otrzymane wyniki, czyli macierze $Q$ i $R$ (w Kincaidzie odpowiednio $B$ i $T$) mają wyglądać następująco:"
   ]
  },
  {
   "cell_type": "markdown",
   "metadata": {},
   "source": [
    "$$\\large\n",
    "Q = [u_1, u_2, ..., u_n] \\\\\n",
    "\\\n",
    "\\\\\n",
    "R =\n",
    "\\begin{bmatrix}\n",
    "\\langle u_1, a_1 \\rangle &\\langle u_1, a_2 \\rangle &\\langle u_1, a_3 \\rangle &... \\\\\n",
    "0 &\\langle u_2, a_2 \\rangle &\\langle u_2, a_3 \\rangle &... \\\\\n",
    "0 &0 &\\langle u_3, a_3 \\rangle &... \\\\\n",
    "\\vdots &\\vdots &\\vdots & \\ddots\n",
    "\\end{bmatrix}\n",
    "$$"
   ]
  },
  {
   "cell_type": "markdown",
   "metadata": {},
   "source": [
    "Spróbuję teraz przenieść powyższy algorytm do kodu z użyciem biblioteki `numpy`"
   ]
  },
  {
   "cell_type": "code",
   "execution_count": 365,
   "metadata": {},
   "outputs": [],
   "source": [
    "import numpy as np"
   ]
  },
  {
   "cell_type": "code",
   "execution_count": 366,
   "metadata": {},
   "outputs": [],
   "source": [
    "def gram_schmidt(A):\n",
    "    n, m = A.shape\n",
    "    R = np.zeros(shape=(n,m))\n",
    "    Q = np.copy(A)\n",
    "    Q[:, 0] /= np.linalg.norm(Q[:, 0])\n",
    "    R[0,0] = np.dot(Q[:,0], A[:, 0])\n",
    "    \n",
    "    for k in range(1, n):\n",
    "        a_k = A[:, k]\n",
    "        tmp = np.sum(np.dot(a_k, Q[:,:k]) * Q[:, :k], axis=1)\n",
    "        \n",
    "        Q[:, k] -= tmp\n",
    "        Q[:, k] /= np.linalg.norm(Q[:, k])\n",
    "        \n",
    "        R[:k+1, k] = (A[:,k] @ Q[:, :k+1]).T\n",
    "    \n",
    "    return Q, R    "
   ]
  },
  {
   "cell_type": "markdown",
   "metadata": {},
   "source": [
    "W powyższym kodzie *tmp* oznacza wartość wyrażenia $\\sum_{i=1}^{k-1} \\langle u_i, a_k \\rangle u_i$. Aby uniknąć każdorazowego dodawania $a_k$ do $u_k$ zainicjalizowałem macierz wynikową $Q$ jako kopię macierzy $A$"
   ]
  },
  {
   "cell_type": "code",
   "execution_count": 367,
   "metadata": {},
   "outputs": [
    {
     "name": "stdout",
     "output_type": "stream",
     "text": [
      "[[ 1.  2.  5.]\n",
      " [ 3.  4.  6.]\n",
      " [ 8. -3. 12.]]\n"
     ]
    }
   ],
   "source": [
    "A = np.array([\n",
    "    [1, 2, 5],\n",
    "    [3, 4, 6],\n",
    "    [8, -3, 12]], dtype=\"float64\")\n",
    "Q, R = gram_schmidt(A)\n",
    "\n",
    "print(Q @ R)"
   ]
  },
  {
   "cell_type": "markdown",
   "metadata": {},
   "source": [
    "Jak widać funkcja `gram_schmidt` zwraca macierze *Q* oraz *R*, których mnożenie zwraca pierwotną macierz *A*. Wygląda na to, że funkcja faktoryzuje macierz poprawnie, sprawdzimy to dokładniej w kolejnych podpunktach."
   ]
  },
  {
   "cell_type": "markdown",
   "metadata": {},
   "source": [
    "---\n",
    "#### 2.\n",
    "Przetestuj zaimplementowaną metodę porównując wyniki uzyskane z jej pomocą z wynikami zwracanymi przez funkcję biblioteczną. W testach wykorzystaj 4-5 macierzy losowych o różnym rozmiarze"
   ]
  },
  {
   "cell_type": "code",
   "execution_count": 368,
   "metadata": {},
   "outputs": [],
   "source": [
    "def rand_M(size):\n",
    "    return np.random.uniform(size=(size, size))"
   ]
  },
  {
   "cell_type": "code",
   "execution_count": 369,
   "metadata": {},
   "outputs": [
    {
     "name": "stdout",
     "output_type": "stream",
     "text": [
      "\n",
      "------------------\n",
      "N = 5\n",
      "Q =?= Q biblioteczne -> True\n",
      "R =?= R biblioteczne -> True\n",
      "Q @ R =?= A -> True\n",
      "\n",
      "------------------\n",
      "N = 10\n",
      "Q =?= Q biblioteczne -> True\n",
      "R =?= R biblioteczne -> True\n",
      "Q @ R =?= A -> True\n",
      "\n",
      "------------------\n",
      "N = 20\n",
      "Q =?= Q biblioteczne -> True\n",
      "R =?= R biblioteczne -> True\n",
      "Q @ R =?= A -> True\n",
      "\n",
      "------------------\n",
      "N = 50\n",
      "Q =?= Q biblioteczne -> True\n",
      "R =?= R biblioteczne -> True\n",
      "Q @ R =?= A -> True\n",
      "\n",
      "------------------\n",
      "N = 100\n",
      "Q =?= Q biblioteczne -> True\n",
      "R =?= R biblioteczne -> True\n",
      "Q @ R =?= A -> True\n"
     ]
    }
   ],
   "source": [
    "N = [5, 10, 20, 50, 100]\n",
    "for n in N:\n",
    "    M = rand_M(n)\n",
    "    Q, R = gram_schmidt(M)\n",
    "    Q_l, R_l = np.linalg.qr(M)\n",
    "    print(\"\\n------------------\")\n",
    "    print(f\"N = {n}\")\n",
    "    print(f\"Q =?= Q biblioteczne -> {np.allclose(np.abs(Q), np.abs(Q_l))}\")\n",
    "    print(f\"R =?= R biblioteczne -> {np.allclose(np.abs(R), np.abs(R_l))}\")\n",
    "    print(f\"Q @ R =?= A -> {np.allclose(Q@R, M)}\")"
   ]
  },
  {
   "cell_type": "markdown",
   "metadata": {},
   "source": [
    "Przetestowaliśmy funkcję dla rozmiarów macierzy $n \\in [5, 10, 20, 50, 100]$ i dla każdej macierzy okazało się, że nasze $Q$ oraz $R$ powielają wartości zwrócone przez funkcje biblioteczną (z dokładnością do znaku). Ponadto, w każdym przypadku iloczyn $Q$ @ $R$ dawał macierz początkową $A$ - oznacza to, że fukcja `graham_shcmidt` działa poprawnie. Do porównywania macierzy użyłem funkcji `numpy.allclose`."
   ]
  },
  {
   "cell_type": "markdown",
   "metadata": {},
   "source": [
    "---\n",
    "#### 3.\n",
    "Wygeneruj 30-50 przypadkowych macierzy 8x8 o różnym wskaźniku uwarunkowania $cond(A_i)$ (stosunek największej do najmniejszej wartości osobliwej). Wykorzystaj w tym celu SVD oraz biblioteczną funkcję realizującą dekompozycję QR (potrzebne będą dwie losowe macierze ortogonalne oraz diagonalna macierz odpowiednio szybko malejących wartości osobliwych)."
   ]
  },
  {
   "cell_type": "code",
   "execution_count": 370,
   "metadata": {},
   "outputs": [
    {
     "data": {
      "text/plain": [
       "10.000000000000007"
      ]
     },
     "execution_count": 370,
     "metadata": {},
     "output_type": "execute_result"
    }
   ],
   "source": [
    "def get_matrix_with_cond(condition, N):\n",
    "    M = rand_M(N)\n",
    "    S, V, D = np.linalg.svd(M)\n",
    "    V = V[0] * (1 - ((condition-1)/condition)*(V[0] - V)/(V[0] - V[-1]))\n",
    "    return S @ np.diag(V) @ D\n",
    "\n",
    "np.linalg.cond(get_matrix_with_cond(10, 8))"
   ]
  },
  {
   "cell_type": "markdown",
   "metadata": {},
   "source": [
    "Napisana wyżej funkcja `get_matrix_with_cond` z dużą dokładnością zwraca losową macierz $A$, ze z góry określoną wartością $cond(A)$ - w tym celu użyłem rozkładu $SVD$, następnie liniowego 'przesunięcia' wartości własnych w wektorze $V$ aby ostatecznie powrócić do macierzy dzięki $S \\cdot V` \\cdot D$"
   ]
  },
  {
   "cell_type": "code",
   "execution_count": 371,
   "metadata": {},
   "outputs": [
    {
     "data": {
      "text/plain": [
       "array([          1,           2,           4,           8,          16,\n",
       "                32,          64,         128,         256,         512,\n",
       "              1024,        2048,        4096,        8192,       16384,\n",
       "             32768,       65536,      131072,      262144,      524288,\n",
       "           1048576,     2097152,     4194304,     8388608,    16777216,\n",
       "          33554432,    67108864,   134217728,   268435456,   536870912,\n",
       "        1073741824,  2147483648,  4294967296,  8589934592, 17179869184])"
      ]
     },
     "execution_count": 371,
     "metadata": {},
     "output_type": "execute_result"
    }
   ],
   "source": [
    "conds = np.array([2**i for i in range(35)])\n",
    "conds"
   ]
  },
  {
   "cell_type": "code",
   "execution_count": 379,
   "metadata": {},
   "outputs": [
    {
     "name": "stdout",
     "output_type": "stream",
     "text": [
      "[1. 2.]\n"
     ]
    },
    {
     "data": {
      "text/plain": [
       "array([[[ 1.61485465e+00, -3.20125630e-01,  1.66520194e+00,\n",
       "         -2.04448667e-01,  1.47567168e+00, -1.44638779e+00,\n",
       "         -1.64200637e+00,  1.73111399e+00],\n",
       "        [ 2.06386875e+00,  2.32552203e+00, -1.01594249e-01,\n",
       "          1.97940966e+00,  3.05390937e-01,  7.24881972e-01,\n",
       "         -2.87378254e-01, -1.09097350e+00],\n",
       "        [ 5.59712953e-01, -3.53382146e-01, -2.04783434e+00,\n",
       "         -7.46341594e-01,  2.24631626e+00,  2.01174363e+00,\n",
       "          3.90857060e-02,  1.09732956e+00],\n",
       "        [ 8.93809420e-02, -7.68192619e-01,  4.24713313e-01,\n",
       "          8.42132663e-01,  2.11909992e+00, -1.31368116e+00,\n",
       "          2.62294515e+00, -9.50608339e-01],\n",
       "        [-4.48353981e-01, -6.02955881e-01, -8.07758892e-01,\n",
       "          2.73849481e+00, -8.09458937e-01, -2.08250650e-01,\n",
       "          5.13413934e-01,  2.41017147e+00],\n",
       "        [-6.29593422e-01,  2.83247563e+00, -2.59016816e-03,\n",
       "         -1.26590991e+00,  3.26094886e-02, -7.72153143e-01,\n",
       "          1.44812878e+00,  1.66472710e+00],\n",
       "        [-1.50385860e+00,  2.79671883e-01,  2.60750395e+00,\n",
       "          6.42197477e-01,  7.93972825e-01,  2.26979919e+00,\n",
       "          1.33737975e-01,  3.68712970e-01],\n",
       "        [ 2.33236804e+00, -8.92914055e-01,  9.37408142e-01,\n",
       "         -8.64374608e-01, -1.54707663e+00,  1.14261914e+00,\n",
       "          1.85710017e+00,  6.90332179e-01]],\n",
       "\n",
       "       [[-5.39151530e-01,  6.36047310e-01, -1.10805218e-02,\n",
       "          1.98835628e+00,  6.48231436e-01,  8.60869044e-02,\n",
       "          1.23008441e+00,  9.34416021e-01],\n",
       "        [-3.63953280e-01, -1.08118218e-01,  9.00459681e-01,\n",
       "         -2.37759290e-01,  6.60480758e-01,  1.78584707e+00,\n",
       "          1.05406464e+00, -6.64466070e-01],\n",
       "        [-2.04417542e-01,  7.69231235e-01,  1.92137468e+00,\n",
       "          5.55872282e-01,  2.33203435e-01, -2.12740880e-02,\n",
       "         -9.01380407e-01,  8.02534390e-01],\n",
       "        [ 7.22240933e-03,  1.00851166e+00, -3.86123320e-02,\n",
       "         -9.49255048e-01,  1.69255361e+00, -3.96382817e-01,\n",
       "          5.13717465e-01,  6.96729023e-01],\n",
       "        [ 1.72542662e-01,  1.61197432e+00,  5.65305529e-01,\n",
       "          1.11011246e-02, -1.18662861e+00,  1.56609529e-01,\n",
       "          1.17229365e+00,  4.62000518e-01],\n",
       "        [ 1.59425695e+00,  1.29516849e+00,  3.00210113e-01,\n",
       "          1.08076154e+00,  9.08059484e-01,  1.37914221e-01,\n",
       "          1.48595827e-01, -1.01022549e+00],\n",
       "        [ 7.44673346e-01,  1.09301902e+00, -6.69948201e-01,\n",
       "          2.75817696e-01,  4.80719564e-01,  1.75697110e+00,\n",
       "         -6.19207087e-01,  1.23615972e+00],\n",
       "        [ 1.71599662e+00, -5.59140628e-01,  8.13636484e-01,\n",
       "          1.21173050e-01,  7.14968649e-01,  4.72306689e-01,\n",
       "          1.12976941e+00,  1.00102203e+00]]])"
      ]
     },
     "execution_count": 379,
     "metadata": {},
     "output_type": "execute_result"
    }
   ],
   "source": [
    "matrixes = np.array([get_matrix_with_cond(cond, 8) for cond in conds])\n",
    "print(np.linalg.cond(matrixes[:2]))\n",
    "matrixes[:2]"
   ]
  },
  {
   "cell_type": "markdown",
   "metadata": {},
   "source": [
    "Wygenerowaliśmy 35 losowych macierzy 8x8 o wartości $cond(A) \\in [1, 2, 2^2, 2^3 ..., 2^{34}]$."
   ]
  },
  {
   "cell_type": "markdown",
   "metadata": {
    "pycharm": {
     "name": "#%% md\n"
    }
   },
   "source": [
    "---\n",
    "#### 4.\n",
    "Dla każdej z uzyskanych w ten sposób macierzy $A_i$ wyznacz faktoryzację QR korzystając z zaimplementowanej funkcji ( $A_i = Q_iR_i$). Przedstaw zależność $\\|I-Q_i^TQ_i\\|$ od $cond(A_i)$"
   ]
  },
  {
   "cell_type": "code",
   "execution_count": 380,
   "metadata": {
    "pycharm": {
     "name": "#%%\n"
    }
   },
   "outputs": [
    {
     "data": {
      "image/png": "[encoded data removed]",
      "text/plain": [
       "<Figure size 1008x576 with 1 Axes>"
      ]
     },
     "metadata": {
      "needs_background": "light"
     },
     "output_type": "display_data"
    }
   ],
   "source": [
    "import matplotlib.pyplot as plt\n",
    "\n",
    "def check(Q):\n",
    "    return np.max(np.identity(Q.shape[0]) - Q.T @ Q)\n",
    "\n",
    "def check_matrix(A):\n",
    "    Q, R = gram_schmidt(A)\n",
    "    return check(Q)\n",
    "\n",
    "results = np.array([check_matrix(A) for A in matrixes])\n",
    "\n",
    "fig = plt.figure(figsize=(14,8))\n",
    "plt.ylabel('|| I - Q^T*Q ||', fontsize=16)\n",
    "plt.xlabel('cond(A)', fontsize=16)\n",
    "fig.suptitle('Zaleznosc ||I - Q^T*Q|| od cond(A)', fontsize=22)\n",
    "plt.plot(conds, results);"
   ]
  },
  {
   "cell_type": "markdown",
   "metadata": {
    "pycharm": {
     "name": "#%% md\n"
    }
   },
   "source": [
    "Widzimy na wykresie, że wraz ze wzrostem wartości $cond(A)$ rośnie również wartość normy max $\\| I - Q^TQ \\|$. Zależność ta przedziałami przypomina liniową."
   ]
  },
  {
   "cell_type": "markdown",
   "source": [
    "---\n",
    "#### 5.\n",
    "Zinterpretuj wyniki. Jaka jest przyczyna uzyskanych rozbieżności? Od czego zależy wielkość rozbieżności?"
   ],
   "metadata": {
    "collapsed": false
   }
  },
  {
   "cell_type": "markdown",
   "source": [
    "Niestety, możemy wyraźnie zaobserwować utratę *ortogonalności* ($\\| I - Q^TQ \\|$) wraz ze wzrostem wskaźnika uwarunkowania macierzy. Jako przyczynę możemy podejrzewać niestabilność numeryczną algorytmu Grama-Schmidta. Rzeczywiście, udało mi się znaleźć zależność opisującą związek ortogonalności z precyzją obliczeń oraz wskaźnikiem uwarunkowania macierzy:\n",
    "$$\\large\n",
    "\\| I - Q^TQ \\| < c\\varepsilon K_2(A) \n",
    "$$\n",
    "\\\n",
    "gdzie $\\epsilon$ opisuje precyzję obliczeń w danym systemie, $K_2(A)$ to $cond(A)$ - wskaźnik uwarunkowania macierzy, $c$ - stała.\n",
    "\n",
    "Na szczęście można temu zaradzić modyfikując ten algorytm i sprawić, że stanie się on bardziej stabilny numerycznie. Sposób modyfikacji został opisany na stronach 266-268 *Kincaid'a i Cheney'a - Analiza numeryczna* (rozdział 5.3). "
   ],
   "metadata": {
    "collapsed": false
   }
  },
  {
   "cell_type": "markdown",
   "source": [
    "---\n",
    "### Zadanie 2 Rozwiązywanie układów równań metodą QR\n",
    "Bezpośrednie rozwiązywanie układu równanń przy pomocy równań normalnych jest obarczone dużym błędem jeśli macierz $A$ jest źle uwarunkowania (jest współczynnik uwarunkowania jest wysoki). Lepszy sposobem jest wykorzystanie dekompozycji QR w tym celu."
   ],
   "metadata": {
    "collapsed": false
   }
  },
  {
   "cell_type": "markdown",
   "source": [
    "Napisz funkcję rozwiązującą nadokreślony układ równań liniowych metodą QR korzystając z własności macierzy ortagonalnych (tj. $A^T = A^{-1}$), a także z mechanizmu *back substitution*. Następnie wykorzystaj ją do rozwiązania roblemu aproksymacji średniokwadratowej dla zbioru punktów podanego w tabeli poniżej. Przyjmij model postaci:\n",
    "$$\\large\n",
    "f(x) = \\alpha_0 + \\alpha_1x + \\alpha_2x^2\n",
    "$$\n",
    "\n",
    "Przedstaw wizualizację uzyskanego wyniku (punkty oraz funkcja paroksymująca $f$ ).\n",
    "\n",
    "| x | -5 | -4 | -3 | -2 | -1 | 0  | 1  | 2  | 3  | 4 | 5 |\n",
    "|---|----|----|----|----|----|----|----|----|----|---|---|\n",
    "| y | 2  | 7  | 9  | 12 | 13 | 14 | 14 | 13 | 10 | 8 | 4 |"
   ],
   "metadata": {
    "collapsed": false
   }
  },
  {
   "cell_type": "code",
   "execution_count": null,
   "outputs": [],
   "source": [
    "X = np.arange(-5, 6, 1, dtype=\"float64\")\n",
    "Y = np.array([2, 7, 9, 12, 13, 14, 14, 13, 10, 8, 4], dtype=\"float64\")\n",
    "A = np.array([[1, x, x*x] for x in X])"
   ],
   "metadata": {
    "collapsed": false,
    "pycharm": {
     "name": "#%%\n"
    }
   }
  },
  {
   "cell_type": "markdown",
   "source": [
    "`A` to macierz potrzebna nam do aproksymacji funkcją kwadratową."
   ],
   "metadata": {
    "collapsed": false
   }
  },
  {
   "cell_type": "code",
   "execution_count": null,
   "outputs": [],
   "source": [
    "def backward_substitution(A_original, B):\n",
    "    n = B.shape[0]\n",
    "    A = np.copy(A_original)\n",
    "    result = np.copy(B)\n",
    "    \n",
    "    for i in range(n-1, -1, -1):\n",
    "        divisor = A[i,i]\n",
    "        for j in range(i-1, -1, -1):\n",
    "            tmp = A[j,i] / divisor\n",
    "            A[j] -= tmp * A[i]\n",
    "            B[j] -= tmp * B[i]\n",
    "            # this element must equal 0 no matter of numeric errors\n",
    "            A[j, i] = 0.0 \n",
    "        B[i] /= divisor\n",
    "            \n",
    "    return B"
   ],
   "metadata": {
    "collapsed": false,
    "pycharm": {
     "name": "#%%\n"
    }
   }
  },
  {
   "cell_type": "code",
   "execution_count": null,
   "outputs": [],
   "source": [
    "def get_function_approx(A, Y):\n",
    "    Q, R = gram_schmidt(A.T @ A)\n",
    "    return backward_substitution(R, Q.T @ A.T @ Y)"
   ],
   "metadata": {
    "collapsed": false,
    "pycharm": {
     "name": "#%%\n"
    }
   }
  },
  {
   "cell_type": "markdown",
   "source": [
    "Powyższa funkcja zwraca nam wektor $W = [\\alpha_0, \\alpha_1, \\alpha_2]$, który jest swoistą reprezentacją funkcji kwadratowej:\n",
    "$$\\large\n",
    "f(x) = \\alpha_0 + \\alpha_1x + \\alpha_2x^2\n",
    "$$\n",
    "\n",
    "Wektor uzyskujemy dzięki rozwiązaniu równania \n",
    "$$\\large\n",
    "RW = Q^TA^TY\n",
    "$$\n",
    "\n",
    "Ponieważ $R$ jest macierzą górną trójkątną to powyższy układ możemy rozwiązać za pomocą *backward substitution*."
   ],
   "metadata": {
    "collapsed": false
   }
  },
  {
   "cell_type": "code",
   "execution_count": null,
   "outputs": [],
   "source": [
    "alphas = get_function_approx(A, Y.T)\n",
    "print(f\" alpha_0 = {alphas[0]}\")\n",
    "print(f\" alpha_1 = {alphas[1]}\")\n",
    "print(f\" alpha_2 = {alphas[2]}\")\n",
    "\n",
    "appr_f = lambda x : alphas[0] + alphas[1] * x + alphas[2] * x * x"
   ],
   "metadata": {
    "collapsed": false,
    "pycharm": {
     "name": "#%%\n"
    }
   }
  },
  {
   "cell_type": "code",
   "execution_count": null,
   "outputs": [],
   "source": [
    "X_appr = np.arange(-6, 6.1, 0.1)\n",
    "Y_appr = appr_f(X_appr)\n",
    "\n",
    "plt.figure(figsize=(14, 8))\n",
    "plt.ylabel('y', fontsize=16)\n",
    "plt.xlabel('x', fontsize=16)\n",
    "plt.title('Wykres funkcji aproksymującej wraz z rzeczywistymi punktami', fontsize=22)\n",
    "plt.plot(X_appr, Y_appr)\n",
    "plt.scatter(X, Y, color=\"red\");"
   ],
   "metadata": {
    "collapsed": false,
    "pycharm": {
     "name": "#%%\n"
    }
   }
  },
  {
   "cell_type": "markdown",
   "source": [
    "Kolorem niebieskim została oznaczona funkcja aproksymująca, a czerwonym rzeczywiste punkty z treści zadania."
   ],
   "metadata": {
    "collapsed": false
   }
  },
  {
   "cell_type": "markdown",
   "source": [
    "---\n",
    "### Wnioski\n",
    "\n"
   ],
   "metadata": {
    "collapsed": false
   }
  },
  {
   "cell_type": "markdown",
   "source": [
    "* Faktoryzacja QR metodą Grama-Schmidta jest stosunkowo prostym sposobem na znalezienie macierzy ortogonalnej Q.\n",
    "* Powyższa metoda ma jednak pewne wady - potrafi być niestabilna numerycznie dla bardzo źle uwarunkowanych macierzy - trzeba wprowadzić pewne modyfikacje aby temu zaradzić.\n",
    "* Dzięki faktoryzacji QR możemy rozwiązywać układy równań za pomocą `backward substitution`. Na tych zajęciach użyliśmy tego dzięki metodzie najmniejszych kwadratów przybliżyć funkcję pewną funkcję.\n",
    "* Przy projektowaniu algorytmów lub aproksymacji funkcji zawsze trzeba zwrócić uwagę na stabilność numeryczną naszego algorytmu lub algorytmu (np. faktoryzacji), z którego korzystamy jako tylko krok do rozwiązania problemu."
   ],
   "metadata": {
    "collapsed": false
   }
  },
  {
   "cell_type": "markdown",
   "metadata": {},
   "source": [
    "* Faktoryzacja QR metodą Grama-Schmidta jest stosunkowo prostym sposobem na znalezienie macierzy ortogonalnej Q.\n",
    "* Powyższa metoda ma jednak pewne wady - potrafi być niestabilna numerycznie dla bardzo źle uwarunkowanych macierzy - trzeba wprowadzić pewne modyfikacje aby temu zaradzić.\n",
    "* Dzięki faktoryzacji QR możemy rozwiązywać układy równań za pomocą `backward substitution`. Na tych zajęciach użyliśmy tego dzięki metodzie najmniejszych kwadratów przybliżyć funkcję pewną funkcję.\n",
    "* Przy projektowaniu algorytmów lub aproksymacji funkcji zawsze trzeba zwrócić uwagę na stabilność numeryczną naszego algorytmu lub algorytmu (np. faktoryzacji), z którego korzystamy jako tylko krok do rozwiązania problemu."
   ]
  },
  {
   "cell_type": "markdown",
   "metadata": {},
   "source": [
    "Niestety, możemy wyraźnie zaobserwować utratę *ortogonalności* ($\\| I - Q^TQ \\|$) wraz ze wzrostem wskaźnika uwarunkowania macierzy. Jako przyczynę możemy podejrzewać niestabilność numeryczną algorytmu Grama-Schmidta. Rzeczywiście, udało mi się znaleźć zależność opisującą związek ortogonalności z precyzją obliczeń oraz wskaźnikiem uwarunkowania macierzy:\n",
    "$$\\large\n",
    "\\| I - Q^TQ \\| < c\\varepsilon K_2(A) \n",
    "$$\n",
    "\\\n",
    "gdzie $\\epsilon$ opisuje precyzję obliczeń w danym systemie, $K_2(A)$ to $cond(A)$ - wskaźnik uwarunkowania macierzy, $c$ - stała.\n",
    "\n",
    "Na szczęście można temu zaradzić modyfikując ten algorytm i sprawić, że stanie się on bardziej stabilny numerycznie. Sposób modyfikacji został opisany na stronach 266-268 *Kincaid'a i Cheney'a - Analiza numeryczna* (rozdział 5.3). "
   ]
  },
  {
   "cell_type": "markdown",
   "metadata": {},
   "source": [
    "---\n",
    "### Zadanie 2 Rozwiązywanie układów równań metodą QR\n",
    "Bezpośrednie rozwiązywanie układu równanń przy pomocy równań normalnych jest obarczone dużym błędem jeśli macierz $A$ jest źle uwarunkowania (jest współczynnik uwarunkowania jest wysoki). Lepszy sposobem jest wykorzystanie dekompozycji QR w tym celu."
   ]
  },
  {
   "cell_type": "markdown",
   "metadata": {},
   "source": [
    "Napisz funkcję rozwiązującą nadokreślony układ równań liniowych metodą QR korzystając z własności macierzy ortagonalnych (tj. $A^T = A^{-1}$), a także z mechanizmu *back substitution*. Następnie wykorzystaj ją do rozwiązania roblemu aproksymacji średniokwadratowej dla zbioru punktów podanego w tabeli poniżej. Przyjmij model postaci:\n",
    "$$\\large\n",
    "f(x) = \\alpha_0 + \\alpha_1x + \\alpha_2x^2\n",
    "$$\n",
    "\n",
    "Przedstaw wizualizację uzyskanego wyniku (punkty oraz funkcja paroksymująca $f$ ).\n",
    "\n",
    "| x | -5 | -4 | -3 | -2 | -1 | 0  | 1  | 2  | 3  | 4 | 5 |\n",
    "|---|----|----|----|----|----|----|----|----|----|---|---|\n",
    "| y | 2  | 7  | 9  | 12 | 13 | 14 | 14 | 13 | 10 | 8 | 4 |"
   ]
  },
  {
   "cell_type": "code",
   "execution_count": 374,
   "metadata": {},
   "outputs": [],
   "source": [
    "X = np.arange(-5, 6, 1, dtype=\"float64\")\n",
    "Y = np.array([2, 7, 9, 12, 13, 14, 14, 13, 10, 8, 4], dtype=\"float64\")\n",
    "A = np.array([[1, x, x*x] for x in X])"
   ]
  },
  {
   "cell_type": "markdown",
   "metadata": {},
   "source": [
    "`A` to macierz potrzebna nam do aproksymacji funkcją kwadratową."
   ]
  },
  {
   "cell_type": "code",
   "execution_count": 375,
   "metadata": {},
   "outputs": [],
   "source": [
    "def backward_substitution(A_original, B):\n",
    "    n = B.shape[0]\n",
    "    A = np.copy(A_original)\n",
    "    result = np.copy(B)\n",
    "    \n",
    "    for i in range(n-1, -1, -1):\n",
    "        divisor = A[i,i]\n",
    "        for j in range(i-1, -1, -1):\n",
    "            tmp = A[j,i] / divisor\n",
    "            A[j] -= tmp * A[i]\n",
    "            B[j] -= tmp * B[i]\n",
    "            # this element must equal 0 no matter of numeric errors\n",
    "            A[j, i] = 0.0 \n",
    "        B[i] /= divisor\n",
    "            \n",
    "    return B"
   ]
  },
  {
   "cell_type": "code",
   "execution_count": 376,
   "metadata": {},
   "outputs": [],
   "source": [
    "def get_function_approx(A, Y):\n",
    "    Q, R = gram_schmidt(A.T @ A)\n",
    "    return backward_substitution(R, Q.T @ A.T @ Y)"
   ]
  },
  {
   "cell_type": "markdown",
   "metadata": {},
   "source": [
    "Powyższa funkcja zwraca nam wektor $W = [\\alpha_0, \\alpha_1, \\alpha_2]$, który jest swoistą reprezentacją funkcji kwadratowej:\n",
    "$$\\large\n",
    "f(x) = \\alpha_0 + \\alpha_1x + \\alpha_2x^2\n",
    "$$\n",
    "\n",
    "Wektor uzyskujemy dzięki rozwiązaniu równania \n",
    "$$\\large\n",
    "RW = Q^TA^TY\n",
    "$$\n",
    "\n",
    "Ponieważ $R$ jest macierzą górną trójkątną to powyższy układ możemy rozwiązać za pomocą *backward substitution*."
   ]
  },
  {
   "cell_type": "code",
   "execution_count": 377,
   "metadata": {},
   "outputs": [
    {
     "name": "stdout",
     "output_type": "stream",
     "text": [
      " alpha_0 = 13.972027972028217\n",
      " alpha_1 = 0.18181818181818182\n",
      " alpha_2 = -0.4335664335664472\n"
     ]
    }
   ],
   "source": [
    "alphas = get_function_approx(A, Y.T)\n",
    "print(f\" alpha_0 = {alphas[0]}\")\n",
    "print(f\" alpha_1 = {alphas[1]}\")\n",
    "print(f\" alpha_2 = {alphas[2]}\")\n",
    "\n",
    "appr_f = lambda x : alphas[0] + alphas[1] * x + alphas[2] * x * x"
   ]
  },
  {
   "cell_type": "code",
   "execution_count": 378,
   "metadata": {},
   "outputs": [
    {
     "data": {
      "image/png": "[encoded data removed]",
      "text/plain": [
       "<Figure size 1008x576 with 1 Axes>"
      ]
     },
     "metadata": {
      "needs_background": "light"
     },
     "output_type": "display_data"
    }
   ],
   "source": [
    "X_appr = np.arange(-6, 6.1, 0.1)\n",
    "Y_appr = appr_f(X_appr)\n",
    "\n",
    "plt.figure(figsize=(14, 8))\n",
    "plt.ylabel('y', fontsize=16)\n",
    "plt.xlabel('x', fontsize=16)\n",
    "plt.title('Wykres funkcji aproksymującej wraz z rzeczywistymi punktami', fontsize=22)\n",
    "plt.plot(X_appr, Y_appr)\n",
    "plt.scatter(X, Y, color=\"red\");"
   ]
  },
  {
   "cell_type": "markdown",
   "metadata": {},
   "source": [
    "Kolorem niebieskim została oznaczona funkcja aproksymująca, a czerwonym rzeczywiste punkty z treści zadania."
   ]
  },
  {
   "cell_type": "markdown",
   "metadata": {},
   "source": [
    "---\n",
    "### Wnioski\n",
    "\n"
   ]
  },
  {
   "cell_type": "markdown",
   "metadata": {},
   "source": [
    "* Faktoryzacja QR metodą Grama-Schmidta jest stosunkowo prostym sposobem na znalezienie macierzy ortogonalnej Q.\n",
    "* Powyższa metoda ma jednak pewne wady - potrafi być niestabilna numerycznie dla bardzo źle uwarunkowanych macierzy - trzeba wprowadzić pewne modyfikacje aby temu zaradzić.\n",
    "* Dzięki faktoryzacji QR możemy rozwiązywać układy równań za pomocą `backward substitution`. Na tych zajęciach użyliśmy tego dzięki metodzie najmniejszych kwadratów przybliżyć funkcję pewną funkcję.\n",
    "* Przy projektowaniu algorytmów lub aproksymacji funkcji zawsze trzeba zwrócić uwagę na stabilność numeryczną naszego algorytmu lub algorytmu (np. faktoryzacji), z którego korzystamy jako tylko krok do rozwiązania problemu."
   ]
  }
 ],
 "metadata": {
  "kernelspec": {
   "display_name": "Python 3",
   "language": "python",
   "name": "python3"
  },
  "language_info": {
   "codemirror_mode": {
    "name": "ipython",
    "version": 3
   },
   "file_extension": ".py",
   "mimetype": "text/x-python",
   "name": "python",
   "nbconvert_exporter": "python",
   "pygments_lexer": "ipython3",
   "version": "3.6.9"
  }
 },
 "nbformat": 4,
 "nbformat_minor": 1
}