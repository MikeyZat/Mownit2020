{
 "cells": [
  {
   "cell_type": "markdown",
   "metadata": {
    "collapsed": true
   },
   "source": [
    "# Labolatorium 6\n",
    "## Rozwiązywanie układów równań liniowych"
   ]
  },
  {
   "cell_type": "markdown",
   "metadata": {},
   "source": [
    "---\n",
    "### Przydatne funkcje z których będziemy korzystać (z nimi głównie porównujemy nasze rozwiązania):\n",
    "- `numpy.linalg.solve`\n",
    "- `numpy.linalg.lstsq`\n",
    "- `scipy.linalg.lu`"
   ]
  },
  {
   "cell_type": "markdown",
   "metadata": {},
   "source": [
    "---\n",
    "### Przydatne importy"
   ]
  },
  {
   "cell_type": "code",
   "execution_count": 8,
   "metadata": {},
   "outputs": [],
   "source": [
    "import numpy as np\n",
    "from numpy import linalg as npln\n",
    "from scipy import linalg as scln\n",
    "import time"
   ]
  },
  {
   "cell_type": "markdown",
   "metadata": {},
   "source": [
    "---\n",
    "### Zadanie 1 Metoda Gaussa-Jordana\n",
    "\n",
    "Napisz i sprawdź funkcję rozwiązującą układ równań liniowych $n \\times n$ metodą **Gaussa-Jordana**. Dla rozmiarów macierzy współczynników większych nż $500 \\times 500$ porównaj czasy działania zaimplementowanej funkcji z czasami uzyskanymi dla wybranych funkcji bibliotecznych."
   ]
  },
  {
   "cell_type": "markdown",
   "metadata": {},
   "source": [
    "Ponieważ w zadaniu nie zostało wyszczególnione czy należy użyć `pivotingu` (i jeśli tak to częsciowego czy pełnego), moja implementacja zawiera pełny `pivoting`."
   ]
  },
  {
   "cell_type": "code",
   "execution_count": 9,
   "metadata": {},
   "outputs": [],
   "source": [
    "def gauss_Jordan(A, B):\n",
    "    n = B.shape[0]\n",
    "    result = np.concatenate((A, B), axis=1)\n",
    "    \n",
    "    #scalling so that max element in each row in A array is 1\n",
    "    result = result/np.max(result[:, :-1], axis=1, keepdims=True)\n",
    "    \n",
    "    permutations = []\n",
    "    # start pivoting\n",
    "    for i in range(n):\n",
    "        # find potential divider\n",
    "        p_index = np.unravel_index(\n",
    "            np.argmax(np.abs(result[i:, i:-1])), result[i:, i:-1].shape\n",
    "        )\n",
    "        # shift\n",
    "        p_index = (p_index[0]+i, p_index[1]+i)\n",
    "        permutations.append(p_index[1])\n",
    "\n",
    "        # swap (permutate)\n",
    "        result[[i, p_index[0]]] = result[[p_index[0], i]]\n",
    "        result[:,[i, p_index[1]]] = result[:,[p_index[1], i]]\n",
    "\n",
    "        for j in range(i + 1, n):\n",
    "            tmp = result[j,i] / result[i,i]\n",
    "            result[j] -= tmp * result[i]\n",
    "            result[j,i] = 0.0\n",
    "\n",
    "    \n",
    "#     back substitution and division\n",
    "    for i in range(n-1, -1, -1):\n",
    "        for j in range(i-1, -1, -1):\n",
    "            tmp = result[j,i] / result[i,i]\n",
    "            result[j] -= tmp * result[i]\n",
    "            result[j, i] = 0.0 \n",
    "        result[i, -1] /= result[i, i]\n",
    "        \n",
    "    X = result[:, -1]\n",
    "#     coming back to first order using saved permutations\n",
    "    for i in range(n-1, -1, -1):\n",
    "        p_index = permutations[i]\n",
    "        X[[i,p_index]] = X[[p_index, i]]\n",
    "    \n",
    "    return X"
   ]
  },
  {
   "cell_type": "markdown",
   "metadata": {},
   "source": [
    "#### Teraz czas przetestować daną funkcję.\n",
    "W tym celu potrzebujemy danych wejściowych. Poniższa funkcja generuje losowy układ, dba jednak o to aby był on rozwiązywalny - $det(A) \\neq 0$."
   ]
  },
  {
   "cell_type": "code",
   "execution_count": 13,
   "metadata": {},
   "outputs": [],
   "source": [
    "def generate_random_equations(size, min_val = -100.0 , max_val = 100.0):\n",
    "    err = 10**(-8)\n",
    "    A = np.random.uniform(low = min_val, high = max_val, size = (size, size))\n",
    "    while np.linalg.det(A)<err:\n",
    "        A = np.random.uniform(low = min_val, high = max_val, size = (size, size))\n",
    "    B = np.random.uniform(low = min_val, high = max_val, size = (size, 1))\n",
    "    return A, B"
   ]
  },
  {
   "cell_type": "markdown",
   "metadata": {},
   "source": [
    "#### Należy również porównać czas wykonania różnych algorytmów i funkcji bibliotecznych\n",
    "Poniższa funkcja mierzy czas wykonania danego algorytmu. Wypisuje ona zmierzony czas na standardowe wyjście i zwraca to, co zwrócił zadany algorytm."
   ]
  },
  {
   "cell_type": "code",
   "execution_count": 14,
   "metadata": {
    "pycharm": {
     "is_executing": true
    }
   },
   "outputs": [],
   "source": [
    "def benchmark(algorithm, algorithm_name, **args):\n",
    "    start = time.time()\n",
    "    result = algorithm(**args)\n",
    "    end = time.time()\n",
    "    print(f\"Algorithm {algorithm_name} took {end-start}s to execute\")\n",
    "    return result\n",
    "   "
   ]
  },
  {
   "cell_type": "markdown",
   "metadata": {},
   "source": [
    "#### Poniżej znajduje się porównanie czasów wykonania i poprawności wyników dla $n = 500, 750, 1000$"
   ]
  },
  {
   "cell_type": "code",
   "execution_count": 15,
   "metadata": {
    "pycharm": {
     "is_executing": true
    }
   },
   "outputs": [
    {
     "name": "stdout",
     "output_type": "stream",
     "text": [
      "\n",
      "----------------------\n",
      " Macierz rozmiaru 500x500\n",
      "\n",
      "Algorithm Gauss Jordan took 1.0235445499420166s to execute\n",
      "Algorithm numpy.linalg.solve took 0.03497886657714844s to execute\n"
     ]
    },
    {
     "name": "stderr",
     "output_type": "stream",
     "text": [
      "/home/mikey/projects/mownit/venv/lib/python3.6/site-packages/ipykernel_launcher.py:3: FutureWarning: `rcond` parameter will change to the default of machine precision times ``max(M, N)`` where M and N are the input matrix dimensions.\n",
      "To use the future default and silence this warning we advise to pass `rcond=None`, to keep using the old, explicitly pass `rcond=-1`.\n",
      "  This is separate from the ipykernel package so we can avoid doing imports until\n"
     ]
    },
    {
     "name": "stdout",
     "output_type": "stream",
     "text": [
      "Algorithm numpy.linalg.lstsq took 0.2889535427093506s to execute\n",
      "\n",
      " Normy wektorów wynikowych (aby porównać poprawność rozwiązania): \n",
      "\n",
      "Gauss Jordan - 29.086086492517783\n",
      "numpy.linalg.solve - 29.086086492519104\n",
      "numpy.linalg.lstsq - 29.086086492518728\n",
      "\n",
      "----------------------\n",
      " Macierz rozmiaru 750x750\n",
      "\n",
      "Algorithm Gauss Jordan took 2.697234630584717s to execute\n",
      "Algorithm numpy.linalg.solve took 0.00914454460144043s to execute\n",
      "Algorithm numpy.linalg.lstsq took 0.14055371284484863s to execute\n",
      "\n",
      " Normy wektorów wynikowych (aby porównać poprawność rozwiązania): \n",
      "\n",
      "Gauss Jordan - 17.296166133898794\n",
      "numpy.linalg.solve - 17.296166133898\n",
      "numpy.linalg.lstsq - 17.296166133897593\n",
      "\n",
      "----------------------\n",
      " Macierz rozmiaru 1000x1000\n",
      "\n",
      "Algorithm Gauss Jordan took 6.139344692230225s to execute\n",
      "Algorithm numpy.linalg.solve took 0.018642425537109375s to execute\n",
      "Algorithm numpy.linalg.lstsq took 0.5521142482757568s to execute\n",
      "\n",
      " Normy wektorów wynikowych (aby porównać poprawność rozwiązania): \n",
      "\n",
      "Gauss Jordan - 20.71373149746399\n",
      "numpy.linalg.solve - 20.713731497465062\n",
      "numpy.linalg.lstsq - 20.713731497466945\n"
     ]
    }
   ],
   "source": [
    "for n in [500, 750, 1000]:\n",
    "    A, B = generate_random_equations(n)\n",
    "    print(f\"\\n----------------------\\n Macierz rozmiaru {n}x{n}\\n\")\n",
    "    my_results = benchmark(gauss_Jordan, \"Gauss Jordan\", A = A, B = B)\n",
    "    linalg_solve_results = benchmark(npln.solve, \"numpy.linalg.solve\", a = A, b = B)\n",
    "    linalg_lstsq_results = benchmark(npln.lstsq, \"numpy.linalg.lstsq\", a = A, b = B)[0]\n",
    "    \n",
    "    print(\"\\n Normy wektorów wynikowych (aby porównać poprawność rozwiązania): \\n\")\n",
    "    print(f\"Gauss Jordan - {npln.norm(my_results)}\")\n",
    "    print(f\"numpy.linalg.solve - {npln.norm(linalg_solve_results)}\")\n",
    "    print(f\"numpy.linalg.lstsq - {npln.norm(linalg_lstsq_results)}\")"
   ]
  },
  {
   "cell_type": "markdown",
   "metadata": {
    "pycharm": {
     "is_executing": true
    }
   },
   "source": [
    "#### Analiza wyników\n",
    "\n",
    "Jak widać, napisana przeze mnie metoda realizująca algorytm Gaussa Jordana jest zdecydowanie wolniejsza od funkcji bibliotecznych ( w tym zestawieniu wygrywa `numpy.linalg.solve`). Norma z wektora wynikowego, która posłużyła nam do sprawdzenia poprawności wyniku, jest równa wynikom obu funkcji bibliotecznych z dokładnością do około 10 miejsc po przecinku - co pozwala twierdzić, że `gauss_Jordan` działa poprawnie."
   ]
  },
  {
   "cell_type": "markdown",
   "metadata": {},
   "source": [
    "---\n",
    "### Zadanie 2 Faktoryzacja LU\n",
    "\n",
    "Napisz i sprawdź funkcję dokonującą faktoryzacji **A = LU** macierzy **A**. Zastosuj częściowe poszukiwanie elementu wiodącego oraz skalowanie."
   ]
  },
  {
   "cell_type": "markdown",
   "metadata": {},
   "source": [
    "Poniższa funkcja zwraca krotkę `(P, L, U)`, gdzie `P` to macierz permutacji, a `L` i `U` to wyniki faktoryzacji LU. Powyższe macierze są związane równością:\n",
    "\n",
    "$ P \\cdot A = L \\cdot U$"
   ]
  },
  {
   "cell_type": "code",
   "execution_count": 26,
   "metadata": {},
   "outputs": [],
   "source": [
    "def lu_factor(A):\n",
    "    n = A.shape[0]\n",
    "    P = np.identity(n)\n",
    "    L = np.zeros((n, n))\n",
    "\n",
    "    # scalling\n",
    "    max_w = 1.0 / np.max(A, axis=0, keepdims=1)\n",
    "\n",
    "    U = A * max_w.T\n",
    "    \n",
    "    for i in range(n):\n",
    "        # half pivoting\n",
    "        p_index = i + np.argmax(np.abs(A[i:, i]))\n",
    "        U[[i, p_index]] = U[[p_index, i]]\n",
    "        P[[i, p_index]] = P[[p_index, i]]\n",
    "        L[[i, p_index]] = L[[p_index, i]]\n",
    "        \n",
    "        for j in range(i+1, n):\n",
    "            factor = U[j,i] / U[i,i]\n",
    "            L[j, i] = factor\n",
    "            U[j] -= factor * U[i]\n",
    "            U[j, i] = 0.0\n",
    "\n",
    "    P = P * max_w\n",
    "    L = L + np.identity(n)\n",
    "            \n",
    "    return P, L, U"
   ]
  },
  {
   "cell_type": "markdown",
   "metadata": {},
   "source": [
    "### Czas przetestować wyżej powyższą funkcję\n",
    "\n",
    "Zrobimy to jak poprzednio - porównamy czasy wykonania do funkcji bibliotecznej `scipy.linalg.lu` dla losowao wygenerowanych macierzy $n\\times n$ ($n = 500, 750, 1000$). Sprawdzimy także poprawność zwracanych wyników (czy równanie $P \\cdot A = L \\cdot U$ jest spełnione) poprzez wyliczenie norm z danych macierzy."
   ]
  },
  {
   "cell_type": "code",
   "execution_count": 32,
   "metadata": {},
   "outputs": [
    {
     "name": "stdout",
     "output_type": "stream",
     "text": [
      "\n",
      "----------------------\n",
      " Macierz rozmiaru 500x500\n",
      "\n",
      "Algorithm lu_factor took 0.5063714981079102s to execute\n",
      "Algorithm scipy.linalg.lu took 0.01755666732788086s to execute\n",
      "\n",
      "Normy wektorów wynikowych (aby porównać poprawność rozwiązania): \n",
      "\n",
      "P * A - 289.3951512500097\n",
      "L * U - 289.39515125000963\n",
      "\n",
      "----------------------\n",
      " Macierz rozmiaru 750x750\n",
      "\n",
      "Algorithm lu_factor took 1.4112067222595215s to execute\n",
      "Algorithm scipy.linalg.lu took 0.013455629348754883s to execute\n",
      "\n",
      "Normy wektorów wynikowych (aby porównać poprawność rozwiązania): \n",
      "\n",
      "P * A - 433.9415925274443\n",
      "L * U - 433.94159252744436\n",
      "\n",
      "----------------------\n",
      " Macierz rozmiaru 1000x1000\n",
      "\n",
      "Algorithm lu_factor took 2.314291477203369s to execute\n",
      "Algorithm scipy.linalg.lu took 0.0224609375s to execute\n",
      "\n",
      "Normy wektorów wynikowych (aby porównać poprawność rozwiązania): \n",
      "\n",
      "P * A - 578.2689817302606\n",
      "L * U - 578.2689817302598\n"
     ]
    }
   ],
   "source": [
    "for n in [500, 750, 1000]:\n",
    "    A, _ = generate_random_equations(n)\n",
    "    print(f\"\\n----------------------\\n Macierz rozmiaru {n}x{n}\\n\")\n",
    "    P, L, U = benchmark(lu_factor, \"lu_factor\", A = A)\n",
    "    benchmark(scln.lu, \"scipy.linalg.lu\", a = A)\n",
    "    \n",
    "    print(\"\\nNormy wektorów wynikowych (aby porównać poprawność rozwiązania): \\n\")\n",
    "    print(f\"P * A - {npln.norm(P @ A)}\")\n",
    "    print(f\"L * U - {npln.norm(L @ U)}\")"
   ]
  },
  {
   "cell_type": "markdown",
   "metadata": {},
   "source": [
    "#### Analiza wyników\n",
    "\n",
    "Tak jak można było się spodziewać - funkcja biblioteczna znów okazała się być zdecydowanie szybsza. Co do wyniku samej faktoryzacji można uznać ją za poprawną - normy z $P \\cdot A$ oraz $L \\cdot U$ są równe z dokładnością do  około kilkunastu miejsc poprzecinku."
   ]
  },
  {
   "cell_type": "markdown",
   "metadata": {},
   "source": [
    "---\n",
    "### Zadanie 3 Analiza obwodu elektrycznego\n",
    "\n",
    "Napisz program, który:"
   ]
  },
  {
   "cell_type": "markdown",
   "metadata": {},
   "source": [
    "---\n",
    "a) Wczytuje z pliku listę krawędzi grafu opisującego obwód elektryczny. Wagi krawędzi określają opór fragmentu obwodu między dwoma węzłami. Wierzchołki grafu identyfikowane są przez liczby naturalne."
   ]
  },
  {
   "cell_type": "code",
   "execution_count": null,
   "metadata": {},
   "outputs": [],
   "source": []
  }
 ],
 "metadata": {
  "kernelspec": {
   "display_name": "Python 3",
   "language": "python",
   "name": "python3"
  },
  "language_info": {
   "codemirror_mode": {
    "name": "ipython",
    "version": 3
   },
   "file_extension": ".py",
   "mimetype": "text/x-python",
   "name": "python",
   "nbconvert_exporter": "python",
   "pygments_lexer": "ipython3",
   "version": "3.6.9"
  }
 },
 "nbformat": 4,
 "nbformat_minor": 1
}