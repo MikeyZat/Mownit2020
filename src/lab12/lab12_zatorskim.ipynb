{
 "cells": [
  {
   "cell_type": "markdown",
   "metadata": {
    "collapsed": true
   },
   "source": [
    "## Labolatorium 12\n",
    "### Równania różniczkowe i zagadnienie początkowe"
   ]
  },
  {
   "cell_type": "markdown",
   "metadata": {},
   "source": [
    "---\n",
    "### Przydatne importy"
   ]
  },
  {
   "cell_type": "code",
   "execution_count": 136,
   "metadata": {},
   "outputs": [],
   "source": [
    "import numpy as np\n",
    "import matplotlib.pyplot as plt\n",
    "plt.rcParams[\"figure.figsize\"] = [14, 7]"
   ]
  },
  {
   "cell_type": "markdown",
   "metadata": {},
   "source": [
    "---\n",
    "### Zadanie 1 Metoda Rungego-Kutty\n",
    "\n",
    "Zaimplementuj metodę Rungego-Kutty czwartego rzędu (rozdział 10.2, Kincaid i Cheney), a następnie:\n",
    "\n",
    "1. Opisz zalety metody Rungego-Kutty w porównaniu do metody z szeregami Taylora\n",
    "2. Rozwiąż zagadnienie początkowe dane równaniem $x' = x/t + tsec(x/t)$ z warunkiem początkowym $x(0) = 0$. Przedłuż równanie do $t = 1$ z krokiem $h = 2^{-7}$. Porównaj wynik z dokładnym rozwiązaniem $x(t) = t \\cdot arcsin(t)$.\n",
    "3. Używając tej samej metody rozwiąż zagadnienie początkowe dane równaniem $x' = 100(sin(t) - x)$ z warunkiem początkowym $x(0) = 0$ na przedziale $[0, 3]$ używając kroków o rozmiarach $h = 0.015, 0.02, 0.025, 0.03$. Opisz z czego wynikają różnice w rozwiązaniach."
   ]
  },
  {
   "cell_type": "markdown",
   "metadata": {},
   "source": [
    "Implementacja metody *Rungego-Kutty* czwartego rzędu"
   ]
  },
  {
   "cell_type": "code",
   "execution_count": 137,
   "metadata": {},
   "outputs": [],
   "source": [
    "def rungy_kutty(f, t, x, h, max_iter=10**6):\n",
    "    t_a = t\n",
    "    \n",
    "    for i in range(max_iter):\n",
    "        K_1 = h * f(t, x)\n",
    "        K_2 = h * f(t + 0.5 * h, x + 0.5 * K_1)\n",
    "        K_3 = h * f(t + 0.5 * h, x + 0.5 * K_2)\n",
    "        K_4 = h * f(t  + h, x + K_3)\n",
    "        \n",
    "        x += (K_1 + 2.0 * K_2 + 2.0 * K_3 + K_4) / 6.0\n",
    "        t = t_a + i * h\n",
    "    \n",
    "    return t, x"
   ]
  },
  {
   "cell_type": "markdown",
   "metadata": {},
   "source": [
    "$$ \\large x' = x/t + tsec(x/t) $$"
   ]
  },
  {
   "cell_type": "code",
   "execution_count": 138,
   "metadata": {
    "pycharm": {
     "name": "#%%\n"
    }
   },
   "outputs": [
    {
     "data": {
      "text/plain": [
       "(0.4930555555555555, 521.7642258988283)"
      ]
     },
     "execution_count": 138,
     "metadata": {},
     "output_type": "execute_result"
    }
   ],
   "source": [
    "def sec(x):\n",
    "    return 1.0 / np.cos(x)\n",
    "\n",
    "def f(t, x):\n",
    "    eps = 10**(-8)\n",
    "    return x / t + t * sec(x / t) if abs(t) > eps else 0.0\n",
    "\n",
    "n = 72\n",
    "a = 0.0\n",
    "b = 0.5\n",
    "h = (b - a) / n\n",
    "t = a\n",
    "x = 0.5\n",
    "rungy_kutty(f, t, x, h, n)"
   ]
  },
  {
   "cell_type": "markdown",
   "metadata": {},
   "source": [
    "Teraz przedłużymy równanie do:\n",
    "$$ \\large x(0) = 0 \\\\\n",
    "\\large t = 1 \\\\\n",
    "\\large h = 2^{-7} $$"
   ]
  },
  {
   "cell_type": "code",
   "execution_count": 139,
   "metadata": {},
   "outputs": [
    {
     "name": "stdout",
     "output_type": "stream",
     "text": [
      "t = 1.0, x(t) = 2.119032825536366\n"
     ]
    }
   ],
   "source": [
    "t = 0.0\n",
    "x = 0.0\n",
    "h = 2**(-7)\n",
    "\n",
    "t, x = rungy_kutty(f, t, x, h, 2**7 + 1)\n",
    "print(f\"t = {t}, x(t) = {x}\")"
   ]
  },
  {
   "cell_type": "markdown",
   "metadata": {},
   "source": [
    "Podczas gdy odkładne rozwiązanie wynosi\n",
    "$$ \\large x(t) = t * arcsin(t) $$"
   ]
  },
  {
   "cell_type": "code",
   "execution_count": 140,
   "metadata": {},
   "outputs": [
    {
     "name": "stdout",
     "output_type": "stream",
     "text": [
      "Dokladne rozwiazanie x(1) = 1.5707963267948966\n"
     ]
    }
   ],
   "source": [
    "print(f\"Dokladne rozwiazanie x(1) = {t * np.arcsin(t)}\")"
   ]
  },
  {
   "cell_type": "markdown",
   "metadata": {},
   "source": [
    "Przedstawmy różnice pomiędzy rozwiązaniami na wykresie"
   ]
  },
  {
   "cell_type": "code",
   "execution_count": 141,
   "metadata": {},
   "outputs": [
    {
     "data": {
      "image/png": "[encoded data removed]",
      "text/plain": [
       "<Figure size 1008x504 with 1 Axes>"
      ]
     },
     "metadata": {
      "needs_background": "light"
     },
     "output_type": "display_data"
    }
   ],
   "source": [
    "t = 0.0\n",
    "x = 0.0\n",
    "\n",
    "appr_solution = np.array([rungy_kutty(f, t, x, h, i) for i in range(2**7 + 2)])\n",
    "appr_x = appr_solution[:, 1]\n",
    "T = appr_solution[:, 0]\n",
    "exac_x = np.array([t * np.arcsin(t) for t in T])\n",
    "\n",
    "\n",
    "plt.plot(T, appr_x, label=\"Rungy-Kutty\")\n",
    "plt.plot(T, exac_x, label=\"Dokladne rozwiazanie\")\n",
    "plt.legend()\n",
    "plt.show()"
   ]
  },
  {
   "cell_type": "markdown",
   "metadata": {},
   "source": [
    "Widać, że na całym przedziale różnice są na prawdę **minimalne** lecz wraz ze zwiększeniem odległości od warunku początkowego ($x(0) = 0$) te różnice rosną - tracimy dokładność."
   ]
  },
  {
   "cell_type": "markdown",
   "metadata": {},
   "source": [
    "---\n",
    "Używając tej samej metody rozwiąż zagadnienie początkowe dane równaniem $x'=100(sin(t) − x)$ z warunkiem początkowym $x(0) = 0$ na przedziale $[0, 3]$ używając kroków o rozmiarach $h = 0.015, 0.02, 0.025, 0.03$. Opisz z czego wynikają różnice w rozwiązaniach."
   ]
  },
  {
   "cell_type": "code",
   "execution_count": 143,
   "metadata": {},
   "outputs": [
    {
     "data": {
      "image/png": "[encoded data removed]",
      "text/plain": [
       "<Figure size 1008x504 with 1 Axes>"
      ]
     },
     "metadata": {
      "needs_background": "light"
     },
     "output_type": "display_data"
    }
   ],
   "source": [
    "def f(t, x):\n",
    "    return 100.0 * (np.sin(t) - x)\n",
    "\n",
    "\n",
    "H = [0.015, 0.02, 0.025, 0.03]\n",
    "\n",
    "t = 0.0\n",
    "x = 0.0\n",
    "a = 0.0\n",
    "b = 3.0\n",
    "\n",
    "for h in H:\n",
    "    n = int((b-a)/h)\n",
    "    appr_solution = np.array([rungy_kutty(f, t, x, h, i) for i in range(n + 1)])\n",
    "    appr_x = appr_solution[:, 1]\n",
    "    T = appr_solution[:, 0]\n",
    "    plt.plot(T, appr_x, label=f\"x(t) dla h = {h}\")\n",
    "\n",
    "plt.legend()\n",
    "plt.show()"
   ]
  },
  {
   "cell_type": "markdown",
   "metadata": {},
   "source": [
    "Widać, że dla $h = 0.015, 0.02, 0.025$ wartości x na całym przedziale $[0,3]$ są bardzo podobne i bliskie zeru, natomiast dla $h = 0.03$ i przedziału $[2.5, 3.0]$ wykres znacząco różni się od pozostałych. Może to wynikać z *single-step error* dla źle dobranej długości *stepu*. Można ten problem wyeliminować stosując algorytm **adaptacyjny**, który zostanie pokazany w następnym zadaniu."
   ]
  },
  {
   "cell_type": "markdown",
   "metadata": {},
   "source": [
    "#### Wnioski\n",
    "\n",
    "Algorytm *Rungego-Kutty* jest dosyć dokładną metodą rozwiązywania problemu zagadnienia początkowego. Wymaga on jednak dobrania dobrej długości *stepu* `h`. Algorytm także traci dokładność wraz ze wzrostem odległości od warunku początkowego."
   ]
  },
  {
   "cell_type": "markdown",
   "metadata": {},
   "source": [
    "---\n",
    "### Zadanie 3 Adaptacyjna metoda Rungego-Kutty-Fehlberga\n",
    "\n",
    "Zaimplementuj adaptacyjną metodę Rungego-Kutty-Fehlberga (rozdział 10.3, Kincaid i Cheney) i użyj jej do rozwiązania zagadnienia początkowego: \n",
    "$$\n",
    "\\large x' = 3x/t + 9/2t − 13 \\\\\n",
    "\\large x(3) = 6 \\\\\n",
    "\\large t_b = 1/2 \\\\\n",
    "$$\n",
    "z dokładnością do 9 miejsc po przecinku."
   ]
  },
  {
   "cell_type": "markdown",
   "metadata": {},
   "source": [
    "Zaczniemy od metody pomocniczej `RK45`, która jest implementacją **fifth-order Runge-Kutta method**."
   ]
  },
  {
   "cell_type": "code",
   "execution_count": 149,
   "metadata": {},
   "outputs": [],
   "source": [
    "def RK45(f, t, x, h):\n",
    "    c20 = 0.25\n",
    "    c21 = 0.25\n",
    "    c30 = 0.375\n",
    "    c31 = 0.09375\n",
    "    c32 = 0.28125\n",
    "    c40 = 12.0/13.0\n",
    "    c41 = 1932.0/2197.0\n",
    "    c42 = -7200.0/2197.0\n",
    "    c43 = 7296.0/2197.0\n",
    "    c51 = 439.0/216.0\n",
    "    c52 = -8.0\n",
    "    c53 = 3680.0/513.0\n",
    "    c54 = -845.0/4104.0\n",
    "    c60 = 0.5\n",
    "    c61 = -8.0/27.0\n",
    "    c62 = 2.0\n",
    "    c63 = -3544.0/2565.0\n",
    "    c64 = 1859.0/4104.0\n",
    "    c65 = -0.275\n",
    "    a1 = 25.0/216.0\n",
    "    a3 = 1408.0/2565.0\n",
    "    a4 = 2197.0/4104.0\n",
    "    a5 = -0.2\n",
    "    b1 = 16.0/135.0\n",
    "    b3 = 6656.0/12825.0\n",
    "    b4 = 28561.0/56430.0\n",
    "    b5 = -0.18\n",
    "    b6 = 2.0/55.0\n",
    "\n",
    "    K1 = h*f(t,x)\n",
    "    K2 = h*f(t + c20*h,x + c21*K1)\n",
    "    K3 = h*f(t + c30*h,x + c31*K1 + c32*K2)\n",
    "    K4 = h*f(t + c40*h,x + c41*K1 + c42*K2 + c43*K3)\n",
    "    K5 = h*f(t + h,x + c51*K1 + c52*K2 + c53*K3 + c54*K4)\n",
    "    K6 = h*f(t + c60*h,x + c61*K1 + c62*K2 + c63*K3 + c64*K4 + c65*K5)\n",
    "    x4 = x + a1*K1 + a3*K3 + a4*K4 + a5*K5\n",
    "    x = x + b1*K1 + b3*K3 + b4*K4 + b5*K5 + b6*K6\n",
    "    t = t + h\n",
    "    eps = abs(x - x4)\n",
    "    return t, x, h, eps"
   ]
  },
  {
   "cell_type": "markdown",
   "metadata": {},
   "source": [
    "Następnie zaimplementuję adaptacyjny algorytm"
   ]
  },
  {
   "cell_type": "code",
   "execution_count": 150,
   "metadata": {},
   "outputs": [],
   "source": [
    "def RK45_adaptive(f, t, tb, x, h, eps_max, eps_min, h_min, h_max, max_iter=10**5):\n",
    "    sigma = 0.5 * 10**(-5)\n",
    "    iflag = 1\n",
    "    k = 0\n",
    "    \n",
    "    while k <= max_iter:\n",
    "        k += 1\n",
    "        if abs(h) < h_min:\n",
    "            h = np.sign(h) * h_min\n",
    "        \n",
    "        if abs(h) > h_max:\n",
    "            h = np.sign(h) * h_max\n",
    "        \n",
    "        d = abs(tb - t)\n",
    "        \n",
    "        if d <= abs(h):\n",
    "            iflag = 0\n",
    "            if d <= sigma * max(abs(tb), abs(t)):\n",
    "                break\n",
    "            \n",
    "            h = np.sign(h) * d\n",
    "        \n",
    "        x_save = x\n",
    "        t_save = t\n",
    "        \n",
    "        t, x, h, eps = RK45(f, t, x, h)\n",
    "        \n",
    "        if iflag == 0:\n",
    "            break\n",
    "        \n",
    "        if eps < eps_min:\n",
    "            h *= 2.0\n",
    "        \n",
    "        if eps > eps_max:\n",
    "            h *= 0.5\n",
    "            x = x_save\n",
    "            t = t_save\n",
    "            k -= 1\n",
    "    \n",
    "    return t, x, h, iflag  "
   ]
  },
  {
   "cell_type": "markdown",
   "metadata": {},
   "source": [
    "Teraz postaramy się rozwiązać następujące równanie:\n",
    "$$\n",
    "\\large x' = 3x/t + 9/2t − 13 \\\\\n",
    "\\large x(3) = 6 \\\\\n",
    "\\large t_b = 1/2 \\\\\n",
    "$$"
   ]
  },
  {
   "cell_type": "code",
   "execution_count": 152,
   "metadata": {},
   "outputs": [
    {
     "name": "stdout",
     "output_type": "stream",
     "text": [
      "x(0.50000000000002) = 2.2500000002065494\n"
     ]
    }
   ],
   "source": [
    "def f(t, x):\n",
    "    eps = 10**(-8)\n",
    "    return 3.0 * x / t + 4.5 * t - 13.0 if abs(t) > eps else 0.0 \n",
    "\n",
    "x = 6\n",
    "t = 3\n",
    "h_min = 10**(-5)\n",
    "h_max = 1.0\n",
    "h = -0.01\n",
    "eps_min = 10**(-12)\n",
    "eps_max = 10**(-9)\n",
    "tb = 0.5\n",
    "\n",
    "t, x, h, iflag = RK45_adaptive(f, t, tb, x, h, eps_max, eps_min, h_min, h_max)\n",
    "\n",
    "if iflag:\n",
    "    print(\"Przkroczono max limit iteracji\")\n",
    "    \n",
    "print(f\"x({t}) = {x}\")"
   ]
  },
  {
   "cell_type": "markdown",
   "metadata": {},
   "source": [
    "Porównaj wynik z rozwiązaniem analitycznym $x = t^3 − 9/2t^2 + 13/2t$. W jaki sposób metoda adaptacyjna pozwala nam zwiększyć dokładność rozwiązania? Jakie są tego wady?"
   ]
  },
  {
   "cell_type": "code",
   "execution_count": 158,
   "metadata": {},
   "outputs": [
    {
     "name": "stdout",
     "output_type": "stream",
     "text": [
      "x(0.5) = 2.2500000000000546\n",
      "Roznica pomiedzy naszym rozwiazanie a analitycznym:\n",
      "2.0649482124213137e-10\n"
     ]
    }
   ],
   "source": [
    "def solution(t):\n",
    "    return t**3 - 4.5 * t**2 + 6.5 * t\n",
    "\n",
    "print(f\"x(0.5) = {solution(t)}\")\n",
    "print(f\"Roznica pomiedzy naszym rozwiazanie a analitycznym:\\n{abs(solution(t)-x)}\")"
   ]
  },
  {
   "cell_type": "markdown",
   "metadata": {},
   "source": [
    "Jak widać, udało nam się uzyskać zadaną dokładność. Różnica pomiędzy rozwiązaniem analitycznym, a przybliżonym metodą adaptacyjną jest rzędu $10^{-10}$. Co więcej, cały algorytm wykonał się dość szybko. Wymagało to jednak odpowiedniego doboru argumentów początkowych"
   ]
  },
  {
   "cell_type": "markdown",
   "metadata": {},
   "source": [
    "**Metoda adaptacyjna** zwiększa dokładność rozwiązania poprzez korekcję długości *stepu* `h` podczas iterowania. Pozwala dobrać długość stepu w taki sposób, aby uzyskać zadaną dokładność (o ile to możliwe)."
   ]
  },
  {
   "cell_type": "markdown",
   "metadata": {},
   "source": [
    "#### Wady metody adaptacyjnej:\n",
    "* Wymaga podania większej ilości argumentów i ich doboru zależy czy otrzymamy oczekiwany wynik\n",
    "* Wykonuje dużo więcej operacji arytmetycznych - zwiększa się czas działania algorytmu\n",
    "* Nie zawsze potrafi dotrzeć do oczekiwanej dokładności - algorytm kończy się po wykonaniu maksymalnej liczby iteracji"
   ]
  },
  {
   "cell_type": "markdown",
   "metadata": {},
   "source": [
    "#### Wnioski\n",
    "\n",
    "Metoda adaptacyjna potrafi znaleźć rozwiązanie z zadaną przez nas dokładnością. W naszym zadaniu udało nam się znaleźć rozwiązanie z dokładnością $10^(-9)$ - jest to bardzo dobry wynik. Ma jednak ona swoje wady, o których należy pamiętać przy jej używaniu."
   ]
  }
 ],
 "metadata": {
  "kernelspec": {
   "display_name": "Python 3",
   "language": "python",
   "name": "python3"
  },
  "language_info": {
   "codemirror_mode": {
    "name": "ipython",
    "version": 3
   },
   "file_extension": ".py",
   "mimetype": "text/x-python",
   "name": "python",
   "nbconvert_exporter": "python",
   "pygments_lexer": "ipython3",
   "version": "3.6.9"
  }
 },
 "nbformat": 4,
 "nbformat_minor": 1
}